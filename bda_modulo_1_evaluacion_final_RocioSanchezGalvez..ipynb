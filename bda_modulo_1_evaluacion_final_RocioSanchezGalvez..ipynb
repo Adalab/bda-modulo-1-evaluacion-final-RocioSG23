{
 "cells": [
  {
   "cell_type": "markdown",
   "id": "32af5460",
   "metadata": {},
   "source": [
    "Evaluacion Modulo 1 Data Analytics"
   ]
  },
  {
   "cell_type": "code",
   "execution_count": null,
   "id": "e09578b7",
   "metadata": {},
   "outputs": [],
   "source": []
  }
 ],
 "metadata": {
  "kernelspec": {
   "display_name": "base",
   "language": "python",
   "name": "python3"
  },
  "language_info": {
   "name": "python",
   "version": "3.13.5"
  }
 },
 "nbformat": 4,
 "nbformat_minor": 5
}
