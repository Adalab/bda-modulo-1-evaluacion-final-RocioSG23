{
 "cells": [
  {
   "cell_type": "markdown",
   "id": "32af5460",
   "metadata": {},
   "source": [
    "## Evaluacion Modulo 1 Data Analytics\n",
    "\n",
    "### 1. Estructura\n"
   ]
  },
  {
   "cell_type": "code",
   "execution_count": 1,
   "id": "e09578b7",
   "metadata": {},
   "outputs": [
    {
     "name": "stdout",
     "output_type": "stream",
     "text": [
      "[{'nombre': 'platano', 'precio': 4, 'cantidad': 30}, {'nombre': 'manzana', 'precio': 2, 'cantidad': 25}, {'nombre': 'naranja', 'precio': 3, 'cantidad': 50}, {'nombre': 'fresa', 'precio': 5, 'cantidad': 60}, {'nombre': 'mango', 'precio': 7, 'cantidad': 15}, {'nombre': 'uva', 'precio': 6, 'cantidad': 65}, {'nombre': 'kiwi', 'precio': 5, 'cantidad': 20}, {'nombre': 'sandia', 'precio': 1, 'cantidad': 6}, {'nombre': 'melon', 'precio': 2, 'cantidad': 5}, {'nombre': 'nectarina', 'precio': 3, 'cantidad': 35}]\n"
     ]
    }
   ],
   "source": [
    "# 1. Inventario (lista de diccionarios): Un atributo para almacenar los productos en el inventario.\n",
    "# Cada producto debe ser representado como un diccionario con las siguientes claves: 'nombre', 'precio', y 'cantidad'.\n",
    "\n",
    "inventario_frutas = [\n",
    "    {\"nombre\": \"platano\", \"precio\" : 4, \"cantidad\" : 30},\n",
    "    {\"nombre\": \"manzana\", \"precio\": 2, \"cantidad\": 25},\n",
    "    {\"nombre\": \"naranja\", \"precio\": 3, \"cantidad\": 50},\n",
    "    {\"nombre\": \"fresa\", \"precio\": 5, \"cantidad\": 60},\n",
    "    {\"nombre\": \"mango\", \"precio\": 7, \"cantidad\": 15},\n",
    "    {\"nombre\": \"uva\", \"precio\": 6, \"cantidad\": 65},\n",
    "    {\"nombre\": \"kiwi\", \"precio\": 5, \"cantidad\": 20},\n",
    "    {\"nombre\": \"sandia\", \"precio\": 1, \"cantidad\": 6},\n",
    "    {\"nombre\": \"melon\", \"precio\": 2, \"cantidad\": 5},\n",
    "    {\"nombre\": \"nectarina\", \"precio\": 3, \"cantidad\": 35}\n",
    "    ]\n",
    "\n",
    "print(inventario_frutas)"
   ]
  },
  {
   "cell_type": "code",
   "execution_count": 2,
   "id": "1662b185",
   "metadata": {},
   "outputs": [
    {
     "data": {
      "text/plain": [
       "{'nombre_cliente': 'Rocio Sanchez',\n",
       " 'email': 'rocio@mail.com',\n",
       " 'edad': 35,\n",
       " 'ciudad': 'Madrid',\n",
       " 'compras': []}"
      ]
     },
     "execution_count": 2,
     "metadata": {},
     "output_type": "execute_result"
    }
   ],
   "source": [
    "# 2. clientes (diccionario): Una estructura para llevar un registro de los clientes de la tienda.\n",
    "\n",
    "clientes = {\n",
    "    \"nombre_cliente\": \"Rocio Sanchez\",\n",
    "    \"email\": \"rocio@mail.com\",\n",
    "    \"edad\": 35,\n",
    "    \"ciudad\": \"Madrid\",\n",
    "    \"compras\": []\n",
    "    }\n",
    "\n",
    "clientes"
   ]
  },
  {
   "cell_type": "code",
   "execution_count": 3,
   "id": "52ea8a56",
   "metadata": {},
   "outputs": [
    {
     "data": {
      "text/plain": [
       "0.0"
      ]
     },
     "execution_count": 3,
     "metadata": {},
     "output_type": "execute_result"
    }
   ],
   "source": [
    "# 3. ventas_totales (float): Una variable para llevar un registro de las ventas totales de la tienda. \n",
    "# Inicialízala con valor 0.\n",
    "\n",
    "ventas_totales = 0.0\n",
    "\n",
    "ventas_totales"
   ]
  },
  {
   "cell_type": "markdown",
   "id": "c176c828",
   "metadata": {},
   "source": [
    "### 2. Funciones"
   ]
  },
  {
   "cell_type": "code",
   "execution_count": 4,
   "id": "c630ff3a",
   "metadata": {},
   "outputs": [],
   "source": [
    "# 1. Agregar_producto(nombre, precio, cantidad). Agrega un producto al inventario o actualiza su cantidad si ya existe. \n",
    "# Debe recibir el nombre, precio y cantidad del producto como parámetros.\n",
    "\n",
    "def agregar_producto(nombre_producto, precio, cantidad):\n",
    "    for producto in inventario_frutas:\n",
    "        if producto[\"nombre\"] == nombre_producto:\n",
    "            producto[\"cantidad\"] += cantidad\n",
    "            return f\"cantidad actualizada\"\n",
    "        \n",
    "    else:\n",
    "        nuevo_producto ={\n",
    "         \"nombre\": nombre_producto,\n",
    "         \"precio\": precio,\n",
    "         \"cantidad\": cantidad\n",
    "         }\n",
    "    \n",
    "    inventario_frutas.append(nuevo_producto)\n",
    "    return f\"Nuevo producto añadido\""
   ]
  },
  {
   "cell_type": "code",
   "execution_count": 5,
   "id": "5d1e38ef",
   "metadata": {},
   "outputs": [
    {
     "data": {
      "text/plain": [
       "'cantidad actualizada'"
      ]
     },
     "execution_count": 5,
     "metadata": {},
     "output_type": "execute_result"
    }
   ],
   "source": [
    "#Prueba actualizar cantidad\n",
    "agregar_producto(\"platano\", 4, 30)\n"
   ]
  },
  {
   "cell_type": "code",
   "execution_count": 6,
   "id": "d9820eb3",
   "metadata": {},
   "outputs": [
    {
     "data": {
      "text/plain": [
       "'Nuevo producto añadido'"
      ]
     },
     "execution_count": 6,
     "metadata": {},
     "output_type": "execute_result"
    }
   ],
   "source": [
    "#Prueba agregar producto\n",
    "agregar_producto(\"banana\", 3, 20)"
   ]
  },
  {
   "cell_type": "code",
   "execution_count": 7,
   "id": "2d10649b",
   "metadata": {},
   "outputs": [
    {
     "name": "stdout",
     "output_type": "stream",
     "text": [
      "[{'nombre': 'platano', 'precio': 4, 'cantidad': 60}, {'nombre': 'manzana', 'precio': 2, 'cantidad': 25}, {'nombre': 'naranja', 'precio': 3, 'cantidad': 50}, {'nombre': 'fresa', 'precio': 5, 'cantidad': 60}, {'nombre': 'mango', 'precio': 7, 'cantidad': 15}, {'nombre': 'uva', 'precio': 6, 'cantidad': 65}, {'nombre': 'kiwi', 'precio': 5, 'cantidad': 20}, {'nombre': 'sandia', 'precio': 1, 'cantidad': 6}, {'nombre': 'melon', 'precio': 2, 'cantidad': 5}, {'nombre': 'nectarina', 'precio': 3, 'cantidad': 35}, {'nombre': 'banana', 'precio': 3, 'cantidad': 20}]\n"
     ]
    }
   ],
   "source": [
    "print(inventario_frutas)"
   ]
  },
  {
   "cell_type": "code",
   "execution_count": 8,
   "id": "0f9b8469",
   "metadata": {},
   "outputs": [],
   "source": [
    "# 2. Ver_inventario(): Muestra el inventario de productos con sus detalles.\n",
    "\n",
    "def ver_inventario():\n",
    "    for producto in inventario_frutas:\n",
    "        nombre = producto[\"nombre\"]\n",
    "        precio = producto[\"precio\"]\n",
    "        cantidad = producto[\"cantidad\"]  \n",
    "        print(f\"nombre: {nombre}, precio: {precio} €, cantidad: {cantidad}\")\n",
    "\n"
   ]
  },
  {
   "cell_type": "code",
   "execution_count": 9,
   "id": "774d4713",
   "metadata": {},
   "outputs": [
    {
     "name": "stdout",
     "output_type": "stream",
     "text": [
      "nombre: platano, precio: 4 €, cantidad: 60\n",
      "nombre: manzana, precio: 2 €, cantidad: 25\n",
      "nombre: naranja, precio: 3 €, cantidad: 50\n",
      "nombre: fresa, precio: 5 €, cantidad: 60\n",
      "nombre: mango, precio: 7 €, cantidad: 15\n",
      "nombre: uva, precio: 6 €, cantidad: 65\n",
      "nombre: kiwi, precio: 5 €, cantidad: 20\n",
      "nombre: sandia, precio: 1 €, cantidad: 6\n",
      "nombre: melon, precio: 2 €, cantidad: 5\n",
      "nombre: nectarina, precio: 3 €, cantidad: 35\n",
      "nombre: banana, precio: 3 €, cantidad: 20\n"
     ]
    }
   ],
   "source": [
    "ver_inventario()"
   ]
  },
  {
   "cell_type": "code",
   "execution_count": 10,
   "id": "972343ae",
   "metadata": {},
   "outputs": [],
   "source": [
    "# 3. Buscar_producto(nombre): Busca un producto en el inventario por nombre y muestra sus detalles si se encuentra. \n",
    "# Debe recibir el nombre del producto como parámetro.\n",
    "\n",
    "\n",
    "def buscar_producto(nombre_producto):\n",
    "    \n",
    "    for producto in inventario_frutas:\n",
    "        if producto[\"nombre\"] == nombre_producto:\n",
    "         print(f\"nombre: {producto[\"nombre\"]}, precio: {producto[\"precio\"]} €, cantidad: {producto[\"cantidad\"]}\")    \n",
    "         break\n",
    "    else:\n",
    "         print(\"No existe\")\n",
    "        \n",
    "        "
   ]
  },
  {
   "cell_type": "code",
   "execution_count": 11,
   "id": "34bc0342",
   "metadata": {},
   "outputs": [
    {
     "name": "stdout",
     "output_type": "stream",
     "text": [
      "nombre: manzana, precio: 2 €, cantidad: 25\n"
     ]
    }
   ],
   "source": [
    "# Llamo a la funcion para ver si funciona: nombre de la funcion (argumento)\n",
    "buscar_producto(\"manzana\")"
   ]
  },
  {
   "cell_type": "code",
   "execution_count": 12,
   "id": "b6fbf9c6",
   "metadata": {},
   "outputs": [
    {
     "name": "stdout",
     "output_type": "stream",
     "text": [
      "No existe\n"
     ]
    }
   ],
   "source": [
    "buscar_producto(\"piña\")"
   ]
  },
  {
   "cell_type": "code",
   "execution_count": 13,
   "id": "ea0277f9",
   "metadata": {},
   "outputs": [],
   "source": [
    "# 4. Actualizar_stock(nombre, cantidad): Actualiza el stock de un producto en el inventario.\n",
    "# Debe recibir el nombre del producto y la cantidad a agregar o quitar como parámetros.\n",
    "\n",
    "\n",
    "def actualizar_stock(nombre_producto, cantidad):\n",
    "    for producto in inventario_frutas:\n",
    "        if producto [\"nombre\"] == nombre_producto:\n",
    "            producto [\"cantidad\"] += cantidad\n",
    "            print(f\"nombre: {producto[\"nombre\"]}, cantidad: {producto[\"cantidad\"]}\")\n",
    "            break\n",
    "    else:\n",
    "         print(f\"El producto no está en el inventario\")\n",
    "            \n",
    "\n"
   ]
  },
  {
   "cell_type": "code",
   "execution_count": 14,
   "id": "9eea184d",
   "metadata": {},
   "outputs": [
    {
     "name": "stdout",
     "output_type": "stream",
     "text": [
      "nombre: manzana, cantidad: 28\n"
     ]
    }
   ],
   "source": [
    "actualizar_stock(\"manzana\", 3)"
   ]
  },
  {
   "cell_type": "code",
   "execution_count": 15,
   "id": "7eeff2a9",
   "metadata": {},
   "outputs": [
    {
     "data": {
      "text/plain": [
       "[{'nombre': 'platano', 'precio': 4, 'cantidad': 60},\n",
       " {'nombre': 'manzana', 'precio': 2, 'cantidad': 28},\n",
       " {'nombre': 'naranja', 'precio': 3, 'cantidad': 50},\n",
       " {'nombre': 'fresa', 'precio': 5, 'cantidad': 60},\n",
       " {'nombre': 'mango', 'precio': 7, 'cantidad': 15},\n",
       " {'nombre': 'uva', 'precio': 6, 'cantidad': 65},\n",
       " {'nombre': 'kiwi', 'precio': 5, 'cantidad': 20},\n",
       " {'nombre': 'sandia', 'precio': 1, 'cantidad': 6},\n",
       " {'nombre': 'melon', 'precio': 2, 'cantidad': 5},\n",
       " {'nombre': 'nectarina', 'precio': 3, 'cantidad': 35},\n",
       " {'nombre': 'banana', 'precio': 3, 'cantidad': 20}]"
      ]
     },
     "execution_count": 15,
     "metadata": {},
     "output_type": "execute_result"
    }
   ],
   "source": [
    "inventario_frutas"
   ]
  },
  {
   "cell_type": "code",
   "execution_count": 16,
   "id": "4a6fc24e",
   "metadata": {},
   "outputs": [
    {
     "name": "stdout",
     "output_type": "stream",
     "text": [
      "nombre: banana, cantidad: 15\n"
     ]
    }
   ],
   "source": [
    "actualizar_stock(\"banana\", -5)"
   ]
  },
  {
   "cell_type": "code",
   "execution_count": 17,
   "id": "58e99638",
   "metadata": {},
   "outputs": [
    {
     "data": {
      "text/plain": [
       "[{'nombre': 'platano', 'precio': 4, 'cantidad': 60},\n",
       " {'nombre': 'manzana', 'precio': 2, 'cantidad': 28},\n",
       " {'nombre': 'naranja', 'precio': 3, 'cantidad': 50},\n",
       " {'nombre': 'fresa', 'precio': 5, 'cantidad': 60},\n",
       " {'nombre': 'mango', 'precio': 7, 'cantidad': 15},\n",
       " {'nombre': 'uva', 'precio': 6, 'cantidad': 65},\n",
       " {'nombre': 'kiwi', 'precio': 5, 'cantidad': 20},\n",
       " {'nombre': 'sandia', 'precio': 1, 'cantidad': 6},\n",
       " {'nombre': 'melon', 'precio': 2, 'cantidad': 5},\n",
       " {'nombre': 'nectarina', 'precio': 3, 'cantidad': 35},\n",
       " {'nombre': 'banana', 'precio': 3, 'cantidad': 15}]"
      ]
     },
     "execution_count": 17,
     "metadata": {},
     "output_type": "execute_result"
    }
   ],
   "source": [
    "inventario_frutas"
   ]
  },
  {
   "cell_type": "code",
   "execution_count": 18,
   "id": "361543e3",
   "metadata": {},
   "outputs": [
    {
     "name": "stdout",
     "output_type": "stream",
     "text": [
      "El producto no está en el inventario\n"
     ]
    }
   ],
   "source": [
    "actualizar_stock(\"higo\", 2)"
   ]
  },
  {
   "cell_type": "code",
   "execution_count": 19,
   "id": "219960f3",
   "metadata": {},
   "outputs": [],
   "source": [
    "# 5. Eliminar_producto(nombre): Elimina un producto del inventario por nombre. \n",
    "# Debe recibir el nombre del producto como parámetro.\n",
    "\n",
    "def eliminar_producto(nombre_producto):\n",
    "    for producto in inventario_frutas:\n",
    "        if producto [\"nombre\"] == nombre_producto:\n",
    "         inventario_frutas.remove(producto)\n",
    "         print(f\"El producto {producto[\"nombre\"]} ha sido eliminado del inventario\")\n",
    "         break\n",
    "    \n",
    "    else:\n",
    "       print(f\"El producto no está en el inventario\") \n",
    "\n",
    "\n"
   ]
  },
  {
   "cell_type": "code",
   "execution_count": 20,
   "id": "8c85b3b3",
   "metadata": {},
   "outputs": [
    {
     "name": "stdout",
     "output_type": "stream",
     "text": [
      "El producto manzana ha sido eliminado del inventario\n"
     ]
    }
   ],
   "source": [
    "eliminar_producto(\"manzana\")"
   ]
  },
  {
   "cell_type": "code",
   "execution_count": 21,
   "id": "429ef05a",
   "metadata": {},
   "outputs": [
    {
     "data": {
      "text/plain": [
       "[{'nombre': 'platano', 'precio': 4, 'cantidad': 60},\n",
       " {'nombre': 'naranja', 'precio': 3, 'cantidad': 50},\n",
       " {'nombre': 'fresa', 'precio': 5, 'cantidad': 60},\n",
       " {'nombre': 'mango', 'precio': 7, 'cantidad': 15},\n",
       " {'nombre': 'uva', 'precio': 6, 'cantidad': 65},\n",
       " {'nombre': 'kiwi', 'precio': 5, 'cantidad': 20},\n",
       " {'nombre': 'sandia', 'precio': 1, 'cantidad': 6},\n",
       " {'nombre': 'melon', 'precio': 2, 'cantidad': 5},\n",
       " {'nombre': 'nectarina', 'precio': 3, 'cantidad': 35},\n",
       " {'nombre': 'banana', 'precio': 3, 'cantidad': 15}]"
      ]
     },
     "execution_count": 21,
     "metadata": {},
     "output_type": "execute_result"
    }
   ],
   "source": [
    "inventario_frutas"
   ]
  },
  {
   "cell_type": "code",
   "execution_count": 22,
   "id": "58866370",
   "metadata": {},
   "outputs": [
    {
     "name": "stdout",
     "output_type": "stream",
     "text": [
      "El producto no está en el inventario\n"
     ]
    }
   ],
   "source": [
    "eliminar_producto(\"aguacate\")"
   ]
  },
  {
   "cell_type": "code",
   "execution_count": 23,
   "id": "775f42b7",
   "metadata": {},
   "outputs": [],
   "source": [
    "# 6. Calcular_valor_inventario(): Calcula y muestra el valor total del inventario.\n",
    "#Itera a través del inventario y suma el valor de cada producto (precio x cantidad). Es decir, calcula el valor total del inventario.\n",
    "# sum(fruta[\"cantidad\"])\n",
    "\n",
    "def calcular_valor_inventario():\n",
    "    valor_acumulado = 0\n",
    "    for producto in inventario_frutas:\n",
    "        total_valor_fruta = producto [\"cantidad\"] * producto [\"precio\"]\n",
    "        valor_acumulado += total_valor_fruta\n",
    "    print(\"El valor total del inventario es\", valor_acumulado, \"€\")\n",
    "      \n",
    "\n"
   ]
  },
  {
   "cell_type": "code",
   "execution_count": 24,
   "id": "41d830a7",
   "metadata": {},
   "outputs": [
    {
     "name": "stdout",
     "output_type": "stream",
     "text": [
      "El valor total del inventario es 1451 €\n"
     ]
    }
   ],
   "source": [
    "calcular_valor_inventario()\n"
   ]
  },
  {
   "cell_type": "code",
   "execution_count": 25,
   "id": "39939a51",
   "metadata": {},
   "outputs": [],
   "source": [
    "# 7. realizar_compra(): Permite a un cliente realizar una compra seleccionando productos del inventario. \n",
    "# Debe interactuar con el cliente para seleccionar productos y calcular el costo total de la compra.\n",
    "\n"
   ]
  },
  {
   "cell_type": "code",
   "execution_count": 26,
   "id": "35473cc7",
   "metadata": {},
   "outputs": [],
   "source": [
    "\n",
    "def realizar_compra(inventario_frutas):\n",
    "    carrito = []\n",
    "    total = 0\n",
    "\n",
    "    while True:\n",
    "        print(\"Inventario productos disponibles:\")\n",
    "        for producto in inventario_frutas:\n",
    "            print(f\"{producto['nombre']}, Precio: {producto['precio']} €, Cantidad: {producto['cantidad']}\")\n",
    "\n",
    "        producto_solicitado = input(\"Introduce el producto que quieres adicionar al carrito, si no, indica 'salir'\").strip().lower().replace(\" \", \"\")\n",
    "\n",
    "        if producto_solicitado == 'salir':\n",
    "            break\n",
    "\n",
    "        producto_encontrado = None\n",
    "        for producto in inventario_frutas:\n",
    "            if producto['nombre'] == producto_solicitado:\n",
    "                producto_encontrado = producto\n",
    "                break\n",
    "\n",
    "        if producto_encontrado:\n",
    "            cantidad = int(input(f\"¿Cuanta cantidad de {producto_solicitado} quiere añadir al carrito?\"))\n",
    "\n",
    "            if cantidad <= producto_encontrado['cantidad']:\n",
    "                precio_producto_solicitado = cantidad * producto_encontrado['precio']\n",
    "                carrito.append({'nombre': producto_solicitado, 'cantidad': cantidad, 'importe': precio_producto_solicitado})\n",
    "                producto_encontrado['cantidad'] -= cantidad\n",
    "                total += precio_producto_solicitado\n",
    "                print(f\"Se agrego la cantidad de {cantidad} de {producto_solicitado} al carrito por un importe de {precio_producto_solicitado}€.\")\n",
    "            else:\n",
    "                print(\"Actualmente no hay stock. Revise cantidades en el inventario disponible\")\n",
    "        else:\n",
    "            print(\"El producto seleccionado no esta disponible.\")\n",
    "\n",
    "    print(\"Compra finalizada.Total productos añadidos:\")\n",
    "    \n",
    "    for i in carrito:\n",
    "        print(f\"{i['nombre']} : {i['cantidad']} = {i['importe']} €\")\n",
    "\n",
    "    print(f\"Importe total a abonar: {total} €\")\n",
    "\n",
    "            \n",
    "         \n",
    "\n"
   ]
  },
  {
   "cell_type": "code",
   "execution_count": 27,
   "id": "d3c095d9",
   "metadata": {},
   "outputs": [
    {
     "name": "stdout",
     "output_type": "stream",
     "text": [
      "Inventario productos disponibles:\n",
      "platano, Precio: 4 €, Cantidad: 60\n",
      "naranja, Precio: 3 €, Cantidad: 50\n",
      "fresa, Precio: 5 €, Cantidad: 60\n",
      "mango, Precio: 7 €, Cantidad: 15\n",
      "uva, Precio: 6 €, Cantidad: 65\n",
      "kiwi, Precio: 5 €, Cantidad: 20\n",
      "sandia, Precio: 1 €, Cantidad: 6\n",
      "melon, Precio: 2 €, Cantidad: 5\n",
      "nectarina, Precio: 3 €, Cantidad: 35\n",
      "banana, Precio: 3 €, Cantidad: 15\n",
      "Actualmente no hay stock. Revise cantidades en el inventario disponible\n",
      "Inventario productos disponibles:\n",
      "platano, Precio: 4 €, Cantidad: 60\n",
      "naranja, Precio: 3 €, Cantidad: 50\n",
      "fresa, Precio: 5 €, Cantidad: 60\n",
      "mango, Precio: 7 €, Cantidad: 15\n",
      "uva, Precio: 6 €, Cantidad: 65\n",
      "kiwi, Precio: 5 €, Cantidad: 20\n",
      "sandia, Precio: 1 €, Cantidad: 6\n",
      "melon, Precio: 2 €, Cantidad: 5\n",
      "nectarina, Precio: 3 €, Cantidad: 35\n",
      "banana, Precio: 3 €, Cantidad: 15\n",
      "Se agrego la cantidad de 5 de platano al carrito por un importe de 20€.\n",
      "Inventario productos disponibles:\n",
      "platano, Precio: 4 €, Cantidad: 55\n",
      "naranja, Precio: 3 €, Cantidad: 50\n",
      "fresa, Precio: 5 €, Cantidad: 60\n",
      "mango, Precio: 7 €, Cantidad: 15\n",
      "uva, Precio: 6 €, Cantidad: 65\n",
      "kiwi, Precio: 5 €, Cantidad: 20\n",
      "sandia, Precio: 1 €, Cantidad: 6\n",
      "melon, Precio: 2 €, Cantidad: 5\n",
      "nectarina, Precio: 3 €, Cantidad: 35\n",
      "banana, Precio: 3 €, Cantidad: 15\n",
      "El producto seleccionado no esta disponible.\n",
      "Inventario productos disponibles:\n",
      "platano, Precio: 4 €, Cantidad: 55\n",
      "naranja, Precio: 3 €, Cantidad: 50\n",
      "fresa, Precio: 5 €, Cantidad: 60\n",
      "mango, Precio: 7 €, Cantidad: 15\n",
      "uva, Precio: 6 €, Cantidad: 65\n",
      "kiwi, Precio: 5 €, Cantidad: 20\n",
      "sandia, Precio: 1 €, Cantidad: 6\n",
      "melon, Precio: 2 €, Cantidad: 5\n",
      "nectarina, Precio: 3 €, Cantidad: 35\n",
      "banana, Precio: 3 €, Cantidad: 15\n",
      "Se agrego la cantidad de 5 de nectarina al carrito por un importe de 15€.\n",
      "Inventario productos disponibles:\n",
      "platano, Precio: 4 €, Cantidad: 55\n",
      "naranja, Precio: 3 €, Cantidad: 50\n",
      "fresa, Precio: 5 €, Cantidad: 60\n",
      "mango, Precio: 7 €, Cantidad: 15\n",
      "uva, Precio: 6 €, Cantidad: 65\n",
      "kiwi, Precio: 5 €, Cantidad: 20\n",
      "sandia, Precio: 1 €, Cantidad: 6\n",
      "melon, Precio: 2 €, Cantidad: 5\n",
      "nectarina, Precio: 3 €, Cantidad: 30\n",
      "banana, Precio: 3 €, Cantidad: 15\n",
      "Compra finalizada.Total productos añadidos:\n",
      "platano : 5 = 20 €\n",
      "nectarina : 5 = 15 €\n",
      "Importe total a abonar: 35 €\n"
     ]
    }
   ],
   "source": [
    "realizar_compra(inventario_frutas)"
   ]
  }
 ],
 "metadata": {
  "kernelspec": {
   "display_name": "base",
   "language": "python",
   "name": "python3"
  },
  "language_info": {
   "codemirror_mode": {
    "name": "ipython",
    "version": 3
   },
   "file_extension": ".py",
   "mimetype": "text/x-python",
   "name": "python",
   "nbconvert_exporter": "python",
   "pygments_lexer": "ipython3",
   "version": "3.13.5"
  }
 },
 "nbformat": 4,
 "nbformat_minor": 5
}
