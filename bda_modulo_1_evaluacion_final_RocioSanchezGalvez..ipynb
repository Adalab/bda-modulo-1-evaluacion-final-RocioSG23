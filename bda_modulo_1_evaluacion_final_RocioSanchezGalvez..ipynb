{
 "cells": [
  {
   "cell_type": "markdown",
   "id": "32af5460",
   "metadata": {},
   "source": [
    "## Evaluacion Modulo 1 Data Analytics\n",
    "\n",
    "### 1. Estructura\n"
   ]
  },
  {
   "cell_type": "code",
   "execution_count": 1,
   "id": "e09578b7",
   "metadata": {},
   "outputs": [
    {
     "name": "stdout",
     "output_type": "stream",
     "text": [
      "[{'nombre': 'platano', 'precio': 4, 'cantidad': 30}, {'nombre': 'manzana', 'precio': 2, 'cantidad': 25}, {'nombre': 'naranja', 'precio': 3, 'cantidad': 50}, {'nombre': 'fresa', 'precio': 5, 'cantidad': 60}, {'nombre': 'mango', 'precio': 7, 'cantidad': 15}, {'nombre': 'uva', 'precio': 6, 'cantidad': 65}, {'nombre': 'kiwi', 'precio': 5, 'cantidad': 20}, {'nombre': 'sandia', 'precio': 1, 'cantidad': 6}, {'nombre': 'melon', 'precio': 2, 'cantidad': 5}, {'nombre': 'nectarina', 'precio': 3, 'cantidad': 35}]\n"
     ]
    }
   ],
   "source": [
    "# 1. inventario (lista de diccionarios): Un atributo para almacenar los productos en el inventario.\n",
    "# Cada producto debe ser representado como un diccionario con las siguientes claves: 'nombre', 'precio', y 'cantidad'.\n",
    "\n",
    "inventario_frutas = [\n",
    "    {\"nombre\": \"platano\", \"precio\" : 4, \"cantidad\" : 30},\n",
    "    {\"nombre\": \"manzana\", \"precio\": 2, \"cantidad\": 25},\n",
    "    {\"nombre\": \"naranja\", \"precio\": 3, \"cantidad\": 50},\n",
    "    {\"nombre\": \"fresa\", \"precio\": 5, \"cantidad\": 60},\n",
    "    {\"nombre\": \"mango\", \"precio\": 7, \"cantidad\": 15},\n",
    "    {\"nombre\": \"uva\", \"precio\": 6, \"cantidad\": 65},\n",
    "    {\"nombre\": \"kiwi\", \"precio\": 5, \"cantidad\": 20},\n",
    "    {\"nombre\": \"sandia\", \"precio\": 1, \"cantidad\": 6},\n",
    "    {\"nombre\": \"melon\", \"precio\": 2, \"cantidad\": 5},\n",
    "    {\"nombre\": \"nectarina\", \"precio\": 3, \"cantidad\": 35}\n",
    "    ]\n",
    "\n",
    "print(inventario_frutas)"
   ]
  },
  {
   "cell_type": "code",
   "execution_count": 2,
   "id": "1662b185",
   "metadata": {},
   "outputs": [
    {
     "data": {
      "text/plain": [
       "{'nombre_cliente': 'Rocio Sanchez',\n",
       " 'email': 'rocio@mail.com',\n",
       " 'edad': 35,\n",
       " 'ciudad': 'Madrid',\n",
       " 'compras': []}"
      ]
     },
     "execution_count": 2,
     "metadata": {},
     "output_type": "execute_result"
    }
   ],
   "source": [
    "# 2. clientes (diccionario): Una estructura para llevar un registro de los clientes de la tienda.\n",
    "\n",
    "clientes = {\n",
    "    \"nombre_cliente\": \"Rocio Sanchez\",\n",
    "    \"email\": \"rocio@mail.com\",\n",
    "    \"edad\": 35,\n",
    "    \"ciudad\": \"Madrid\",\n",
    "    \"compras\": []\n",
    "    }\n",
    "\n",
    "clientes"
   ]
  },
  {
   "cell_type": "code",
   "execution_count": 3,
   "id": "52ea8a56",
   "metadata": {},
   "outputs": [
    {
     "data": {
      "text/plain": [
       "0.0"
      ]
     },
     "execution_count": 3,
     "metadata": {},
     "output_type": "execute_result"
    }
   ],
   "source": [
    "# 3. ventas_totales (float): Una variable para llevar un registro de las ventas totales de la tienda. \n",
    "# Inicialízala con valor 0.\n",
    "\n",
    "ventas_totales = 0.0\n",
    "\n",
    "ventas_totales"
   ]
  },
  {
   "cell_type": "markdown",
   "id": "c176c828",
   "metadata": {},
   "source": [
    "### 2. Funciones"
   ]
  },
  {
   "cell_type": "code",
   "execution_count": 4,
   "id": "c630ff3a",
   "metadata": {},
   "outputs": [],
   "source": [
    "# 1. Agregar_producto(nombre, precio, cantidad)\n",
    "\n",
    "def agregar_producto(nombre_producto, precio, cantidad):\n",
    "    for producto in inventario_frutas:\n",
    "        if producto[\"nombre\"] == nombre_producto:\n",
    "            producto[\"cantidad\"] += cantidad\n",
    "            return f\"cantidad actualizada\"\n",
    "        \n",
    "    nuevo_producto ={\n",
    "         \"nombre\": nombre_producto,\n",
    "         \"precio\": precio,\n",
    "         \"cantidad\": cantidad\n",
    "         }\n",
    "    \n",
    "    inventario_frutas.append(nuevo_producto)\n",
    "    return f\"Nuevo producto añadido\""
   ]
  },
  {
   "cell_type": "code",
   "execution_count": 5,
   "id": "5d1e38ef",
   "metadata": {},
   "outputs": [
    {
     "data": {
      "text/plain": [
       "'cantidad actualizada'"
      ]
     },
     "execution_count": 5,
     "metadata": {},
     "output_type": "execute_result"
    }
   ],
   "source": [
    "#Prueba actualizar cantidad\n",
    "agregar_producto(\"platano\", 4, 30)\n"
   ]
  },
  {
   "cell_type": "code",
   "execution_count": 6,
   "id": "d9820eb3",
   "metadata": {},
   "outputs": [
    {
     "data": {
      "text/plain": [
       "'Nuevo producto añadido'"
      ]
     },
     "execution_count": 6,
     "metadata": {},
     "output_type": "execute_result"
    }
   ],
   "source": [
    "#Prueba agregar producto\n",
    "agregar_producto(\"banana\", 3, 20)"
   ]
  },
  {
   "cell_type": "code",
   "execution_count": 7,
   "id": "2d10649b",
   "metadata": {},
   "outputs": [
    {
     "name": "stdout",
     "output_type": "stream",
     "text": [
      "[{'nombre': 'platano', 'precio': 4, 'cantidad': 60}, {'nombre': 'manzana', 'precio': 2, 'cantidad': 25}, {'nombre': 'naranja', 'precio': 3, 'cantidad': 50}, {'nombre': 'fresa', 'precio': 5, 'cantidad': 60}, {'nombre': 'mango', 'precio': 7, 'cantidad': 15}, {'nombre': 'uva', 'precio': 6, 'cantidad': 65}, {'nombre': 'kiwi', 'precio': 5, 'cantidad': 20}, {'nombre': 'sandia', 'precio': 1, 'cantidad': 6}, {'nombre': 'melon', 'precio': 2, 'cantidad': 5}, {'nombre': 'nectarina', 'precio': 3, 'cantidad': 35}, {'nombre': 'banana', 'precio': 3, 'cantidad': 20}]\n"
     ]
    }
   ],
   "source": [
    "print(inventario_frutas)"
   ]
  },
  {
   "cell_type": "code",
   "execution_count": 8,
   "id": "0f9b8469",
   "metadata": {},
   "outputs": [],
   "source": [
    "# 2. ver_inventario(): Muestra el inventario de productos con sus detalles.\n",
    "\n",
    "def ver_inventario():\n",
    "    for producto in inventario_frutas:\n",
    "        nombre = producto[\"nombre\"]\n",
    "        precio = producto[\"precio\"]\n",
    "        cantidad = producto[\"cantidad\"]  \n",
    "        print(f\"nombre: {nombre}, precio: {precio} €, cantidad: {cantidad}\")\n",
    "\n"
   ]
  },
  {
   "cell_type": "code",
   "execution_count": 9,
   "id": "774d4713",
   "metadata": {},
   "outputs": [
    {
     "name": "stdout",
     "output_type": "stream",
     "text": [
      "nombre: platano, precio: 4 €, cantidad: 60\n",
      "nombre: manzana, precio: 2 €, cantidad: 25\n",
      "nombre: naranja, precio: 3 €, cantidad: 50\n",
      "nombre: fresa, precio: 5 €, cantidad: 60\n",
      "nombre: mango, precio: 7 €, cantidad: 15\n",
      "nombre: uva, precio: 6 €, cantidad: 65\n",
      "nombre: kiwi, precio: 5 €, cantidad: 20\n",
      "nombre: sandia, precio: 1 €, cantidad: 6\n",
      "nombre: melon, precio: 2 €, cantidad: 5\n",
      "nombre: nectarina, precio: 3 €, cantidad: 35\n",
      "nombre: banana, precio: 3 €, cantidad: 20\n"
     ]
    }
   ],
   "source": [
    "ver_inventario()"
   ]
  },
  {
   "cell_type": "code",
   "execution_count": 10,
   "id": "972343ae",
   "metadata": {},
   "outputs": [],
   "source": [
    "# 3. buscar_producto(nombre): Busca un producto en el inventario por nombre y muestra sus detalles si se encuentra. \n",
    "# Debe recibir el nombre del producto como parámetro.\n",
    "\n",
    "# 1º establezco la funcion con def, el nombre que le quiero dar \n",
    "# y entre parentesis la palabra clave que sera la que luego meta para que me traiga el resultado.\n",
    "\n",
    "# 2º hago un bucle for para que recorra la lista, \n",
    "# un if para que identifique si la clave que busco (el nombre del producto) está en la lista de diccionarios, \n",
    "# producto se refiere a cada diccionario dentro de la lista\n",
    "# pongo [\"nombre\"] para que dentro de cada diccionario busque por la clave llamada \"nombre\" y\n",
    "# compare si su valor coincide con la fruta (nombre_producto) que le indicaré cuando ejecute la funcion.\n",
    "#== nombre_producto: lo pongo para que compare si la palabra clave (nuevo_producto) que quiero que busque\n",
    "# es igual a alguna clave que haya dentro de algún diccionario.\n",
    "# \n",
    "# hago un print para que me devuelva el producto con sus detalles si está en la lista, es decir, si se cumple la condicion.\n",
    "# uso la f para concatenar el texto que quiera poner con \" al inicio y al final de la frase, \n",
    "# despues de cada clave del detalle (\"nombre:\") seguida de lo que quiero que me traiga del diccionario, \n",
    "# \n",
    "# un break para que deje de buscar cuando la encuentre,\n",
    "# \n",
    "# Termino con un else para que me devuelva una frase que indique que el producto no está en la lista,\n",
    "# así yo compruebo y aseguro que está ok.\n",
    "# \n",
    "# compruebo identaciones\n",
    "\n",
    "\n",
    "\n",
    "def buscar_producto(nombre_producto):\n",
    "    \n",
    "    for producto in inventario_frutas:\n",
    "        if producto[\"nombre\"] == nombre_producto:\n",
    "         print(f\"nombre: {producto[\"nombre\"]}, precio: {producto[\"precio\"]} €, cantidad: {producto[\"cantidad\"]}\")    \n",
    "         break\n",
    "    else:\n",
    "         print(\"No existe\")\n",
    "        \n",
    "        "
   ]
  },
  {
   "cell_type": "code",
   "execution_count": 11,
   "id": "34bc0342",
   "metadata": {},
   "outputs": [
    {
     "name": "stdout",
     "output_type": "stream",
     "text": [
      "nombre: manzana, precio: 2 €, cantidad: 25\n"
     ]
    }
   ],
   "source": [
    "# Llamo a la funcion para ver si funciona: nombre de la funcion (argumento)\n",
    "buscar_producto(\"manzana\")"
   ]
  },
  {
   "cell_type": "code",
   "execution_count": 12,
   "id": "b6fbf9c6",
   "metadata": {},
   "outputs": [
    {
     "name": "stdout",
     "output_type": "stream",
     "text": [
      "No existe\n"
     ]
    }
   ],
   "source": [
    "buscar_producto(\"piña\")"
   ]
  },
  {
   "cell_type": "code",
   "execution_count": 13,
   "id": "ea0277f9",
   "metadata": {},
   "outputs": [],
   "source": [
    "# 4. Actualizar_stock(nombre, cantidad): Actualiza el stock de un producto en el inventario.\n",
    "# Debe recibir el nombre del producto y la cantidad a agregar o quitar como parámetros.\n",
    "\n",
    "# 1º Defino nombre de la funcion y entre () indico la variable que quiero que me traiga (parámetro).\n",
    "# 2º Hago un bucle for para que recorra la lista de diccionarios, indicando \"producto\" para que localice en (in) cada diccionario de la lista \"inventario_frutas\".\n",
    "# 3º Con un if le pido que si encuentra en uno de los diccionarios de la lista (producto) un \"nombre\" que sea igual al dado como parametro, haga la instruccion que le indico despues de los \":\".\n",
    "# 4º La instrucción que le doy es: coge del diccionario (producto), el valor \"cantidad\" de la clave localizada y sumale (+=) la cantidad que se indique en el argumento cuando se llame a la funcion.\n",
    "# 5º Hago un print con lo que quiero que me traiga y despues un break para que pare de buscar, si pongo return el break no funciona.\n",
    "# 6º En caso de que le demos un argumento que no exista en el inventario, pongo un else para que me devuelva una frase indicando que el producto no está en el inventario y asi vemos que no se cumple la condicion pero que la funcion se ha ejecutado correctamente.\n",
    "\n",
    "def actualizar_stock(nombre_producto, cantidad):\n",
    "    for producto in inventario_frutas:\n",
    "        if producto [\"nombre\"] == nombre_producto:\n",
    "            producto [\"cantidad\"] += cantidad\n",
    "            print(f\"nombre: {producto[\"nombre\"]}, cantidad: {producto[\"cantidad\"]}\")\n",
    "            break\n",
    "    else:\n",
    "         print(f\"El producto no está en el inventario\")\n",
    "            \n",
    "\n"
   ]
  },
  {
   "cell_type": "code",
   "execution_count": 14,
   "id": "9eea184d",
   "metadata": {},
   "outputs": [
    {
     "name": "stdout",
     "output_type": "stream",
     "text": [
      "nombre: manzana, cantidad: 28\n"
     ]
    }
   ],
   "source": [
    "actualizar_stock(\"manzana\", 3)"
   ]
  },
  {
   "cell_type": "code",
   "execution_count": 15,
   "id": "7eeff2a9",
   "metadata": {},
   "outputs": [
    {
     "data": {
      "text/plain": [
       "[{'nombre': 'platano', 'precio': 4, 'cantidad': 60},\n",
       " {'nombre': 'manzana', 'precio': 2, 'cantidad': 28},\n",
       " {'nombre': 'naranja', 'precio': 3, 'cantidad': 50},\n",
       " {'nombre': 'fresa', 'precio': 5, 'cantidad': 60},\n",
       " {'nombre': 'mango', 'precio': 7, 'cantidad': 15},\n",
       " {'nombre': 'uva', 'precio': 6, 'cantidad': 65},\n",
       " {'nombre': 'kiwi', 'precio': 5, 'cantidad': 20},\n",
       " {'nombre': 'sandia', 'precio': 1, 'cantidad': 6},\n",
       " {'nombre': 'melon', 'precio': 2, 'cantidad': 5},\n",
       " {'nombre': 'nectarina', 'precio': 3, 'cantidad': 35},\n",
       " {'nombre': 'banana', 'precio': 3, 'cantidad': 20}]"
      ]
     },
     "execution_count": 15,
     "metadata": {},
     "output_type": "execute_result"
    }
   ],
   "source": [
    "inventario_frutas"
   ]
  },
  {
   "cell_type": "code",
   "execution_count": 16,
   "id": "4a6fc24e",
   "metadata": {},
   "outputs": [
    {
     "name": "stdout",
     "output_type": "stream",
     "text": [
      "nombre: banana, cantidad: 15\n"
     ]
    }
   ],
   "source": [
    "actualizar_stock(\"banana\", -5)"
   ]
  },
  {
   "cell_type": "code",
   "execution_count": 17,
   "id": "58e99638",
   "metadata": {},
   "outputs": [
    {
     "data": {
      "text/plain": [
       "[{'nombre': 'platano', 'precio': 4, 'cantidad': 60},\n",
       " {'nombre': 'manzana', 'precio': 2, 'cantidad': 28},\n",
       " {'nombre': 'naranja', 'precio': 3, 'cantidad': 50},\n",
       " {'nombre': 'fresa', 'precio': 5, 'cantidad': 60},\n",
       " {'nombre': 'mango', 'precio': 7, 'cantidad': 15},\n",
       " {'nombre': 'uva', 'precio': 6, 'cantidad': 65},\n",
       " {'nombre': 'kiwi', 'precio': 5, 'cantidad': 20},\n",
       " {'nombre': 'sandia', 'precio': 1, 'cantidad': 6},\n",
       " {'nombre': 'melon', 'precio': 2, 'cantidad': 5},\n",
       " {'nombre': 'nectarina', 'precio': 3, 'cantidad': 35},\n",
       " {'nombre': 'banana', 'precio': 3, 'cantidad': 15}]"
      ]
     },
     "execution_count": 17,
     "metadata": {},
     "output_type": "execute_result"
    }
   ],
   "source": [
    "inventario_frutas"
   ]
  },
  {
   "cell_type": "code",
   "execution_count": 18,
   "id": "361543e3",
   "metadata": {},
   "outputs": [
    {
     "name": "stdout",
     "output_type": "stream",
     "text": [
      "El producto no está en el inventario\n"
     ]
    }
   ],
   "source": [
    "actualizar_stock(\"higo\", 2)"
   ]
  },
  {
   "cell_type": "code",
   "execution_count": null,
   "id": "219960f3",
   "metadata": {},
   "outputs": [],
   "source": [
    "# 5. Eliminar_producto(nombre): Elimina un producto del inventario por nombre. \n",
    "# Debe recibir el nombre del producto como parámetro."
   ]
  }
 ],
 "metadata": {
  "kernelspec": {
   "display_name": "base",
   "language": "python",
   "name": "python3"
  },
  "language_info": {
   "codemirror_mode": {
    "name": "ipython",
    "version": 3
   },
   "file_extension": ".py",
   "mimetype": "text/x-python",
   "name": "python",
   "nbconvert_exporter": "python",
   "pygments_lexer": "ipython3",
   "version": "3.13.5"
  }
 },
 "nbformat": 4,
 "nbformat_minor": 5
}
