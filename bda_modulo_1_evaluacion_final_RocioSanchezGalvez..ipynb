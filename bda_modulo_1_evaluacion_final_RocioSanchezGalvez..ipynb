{
 "cells": [
  {
   "cell_type": "markdown",
   "id": "32af5460",
   "metadata": {},
   "source": [
    "## Evaluacion Modulo 1 Data Analytics\n",
    "\n",
    "### 1. Estructura\n"
   ]
  },
  {
   "cell_type": "code",
   "execution_count": 1,
   "id": "e09578b7",
   "metadata": {},
   "outputs": [
    {
     "name": "stdout",
     "output_type": "stream",
     "text": [
      "[{'nombre': 'platano', 'precio': 4, 'cantidad': 30}, {'nombre': 'manzana', 'precio': 2, 'cantidad': 25}, {'nombre': 'naranja', 'precio': 3, 'cantidad': 50}, {'nombre': 'fresa', 'precio': 5, 'cantidad': 60}, {'nombre': 'mango', 'precio': 7, 'cantidad': 15}, {'nombre': 'uva', 'precio': 6, 'cantidad': 65}, {'nombre': 'kiwi', 'precio': 5, 'cantidad': 20}, {'nombre': 'sandia', 'precio': 1, 'cantidad': 6}, {'nombre': 'melon', 'precio': 2, 'cantidad': 5}, {'nombre': 'nectarina', 'precio': 3, 'cantidad': 35}]\n"
     ]
    }
   ],
   "source": [
    "# 1. inventario (lista de diccionarios): Un atributo para almacenar los productos en el inventario.\n",
    "# Cada producto debe ser representado como un diccionario con las siguientes claves: 'nombre', 'precio', y 'cantidad'.\n",
    "\n",
    "inventario_frutas = [\n",
    "    {\"nombre\": \"platano\", \"precio\" : 4, \"cantidad\" : 30},\n",
    "    {\"nombre\": \"manzana\", \"precio\": 2, \"cantidad\": 25},\n",
    "    {\"nombre\": \"naranja\", \"precio\": 3, \"cantidad\": 50},\n",
    "    {\"nombre\": \"fresa\", \"precio\": 5, \"cantidad\": 60},\n",
    "    {\"nombre\": \"mango\", \"precio\": 7, \"cantidad\": 15},\n",
    "    {\"nombre\": \"uva\", \"precio\": 6, \"cantidad\": 65},\n",
    "    {\"nombre\": \"kiwi\", \"precio\": 5, \"cantidad\": 20},\n",
    "    {\"nombre\": \"sandia\", \"precio\": 1, \"cantidad\": 6},\n",
    "    {\"nombre\": \"melon\", \"precio\": 2, \"cantidad\": 5},\n",
    "    {\"nombre\": \"nectarina\", \"precio\": 3, \"cantidad\": 35}\n",
    "    ]\n",
    "\n",
    "print(inventario_frutas)"
   ]
  },
  {
   "cell_type": "code",
   "execution_count": 2,
   "id": "1662b185",
   "metadata": {},
   "outputs": [
    {
     "data": {
      "text/plain": [
       "{'nombre_cliente': 'Rocio Sanchez',\n",
       " 'email': 'rocio@mail.com',\n",
       " 'edad': 35,\n",
       " 'ciudad': 'Madrid',\n",
       " 'compras': []}"
      ]
     },
     "execution_count": 2,
     "metadata": {},
     "output_type": "execute_result"
    }
   ],
   "source": [
    "# 2. clientes (diccionario): Una estructura para llevar un registro de los clientes de la tienda.\n",
    "\n",
    "clientes = {\n",
    "    \"nombre_cliente\": \"Rocio Sanchez\",\n",
    "    \"email\": \"rocio@mail.com\",\n",
    "    \"edad\": 35,\n",
    "    \"ciudad\": \"Madrid\",\n",
    "    \"compras\": []\n",
    "    }\n",
    "\n",
    "clientes"
   ]
  },
  {
   "cell_type": "code",
   "execution_count": 3,
   "id": "52ea8a56",
   "metadata": {},
   "outputs": [
    {
     "data": {
      "text/plain": [
       "0.0"
      ]
     },
     "execution_count": 3,
     "metadata": {},
     "output_type": "execute_result"
    }
   ],
   "source": [
    "# 3. ventas_totales (float): Una variable para llevar un registro de las ventas totales de la tienda. \n",
    "# Inicialízala con valor 0.\n",
    "\n",
    "ventas_totales = 0.0\n",
    "\n",
    "ventas_totales"
   ]
  },
  {
   "cell_type": "markdown",
   "id": "c176c828",
   "metadata": {},
   "source": [
    "### 2. Funciones"
   ]
  },
  {
   "cell_type": "code",
   "execution_count": 4,
   "id": "c630ff3a",
   "metadata": {},
   "outputs": [],
   "source": [
    "# 1. Agregar_producto(nombre, precio, cantidad)\n",
    "\n",
    "def agregar_producto(nombre_producto, precio, cantidad):\n",
    "    for producto in inventario_frutas:\n",
    "        if producto[\"nombre\"] == nombre_producto:\n",
    "            producto[\"cantidad\"] += cantidad\n",
    "            return f\"cantidad actualizada\"\n",
    "        \n",
    "    nuevo_producto ={\n",
    "         \"nombre\": nombre_producto,\n",
    "         \"precio\": precio,\n",
    "         \"cantidad\": cantidad\n",
    "         }\n",
    "    \n",
    "    inventario_frutas.append(nuevo_producto)\n",
    "    return f\"Nuevo producto añadido\""
   ]
  },
  {
   "cell_type": "code",
   "execution_count": 5,
   "id": "5d1e38ef",
   "metadata": {},
   "outputs": [
    {
     "data": {
      "text/plain": [
       "'cantidad actualizada'"
      ]
     },
     "execution_count": 5,
     "metadata": {},
     "output_type": "execute_result"
    }
   ],
   "source": [
    "#Prueba actualizar cantidad\n",
    "agregar_producto(\"platano\", 4, 30)\n"
   ]
  },
  {
   "cell_type": "code",
   "execution_count": 6,
   "id": "d9820eb3",
   "metadata": {},
   "outputs": [
    {
     "data": {
      "text/plain": [
       "'Nuevo producto añadido'"
      ]
     },
     "execution_count": 6,
     "metadata": {},
     "output_type": "execute_result"
    }
   ],
   "source": [
    "#Prueba agregar producto\n",
    "agregar_producto(\"banana\", 3, 20)"
   ]
  },
  {
   "cell_type": "code",
   "execution_count": 7,
   "id": "2d10649b",
   "metadata": {},
   "outputs": [
    {
     "name": "stdout",
     "output_type": "stream",
     "text": [
      "[{'nombre': 'platano', 'precio': 4, 'cantidad': 60}, {'nombre': 'manzana', 'precio': 2, 'cantidad': 25}, {'nombre': 'naranja', 'precio': 3, 'cantidad': 50}, {'nombre': 'fresa', 'precio': 5, 'cantidad': 60}, {'nombre': 'mango', 'precio': 7, 'cantidad': 15}, {'nombre': 'uva', 'precio': 6, 'cantidad': 65}, {'nombre': 'kiwi', 'precio': 5, 'cantidad': 20}, {'nombre': 'sandia', 'precio': 1, 'cantidad': 6}, {'nombre': 'melon', 'precio': 2, 'cantidad': 5}, {'nombre': 'nectarina', 'precio': 3, 'cantidad': 35}, {'nombre': 'banana', 'precio': 3, 'cantidad': 20}]\n"
     ]
    }
   ],
   "source": [
    "print(inventario_frutas)"
   ]
  },
  {
   "cell_type": "code",
   "execution_count": 8,
   "id": "0f9b8469",
   "metadata": {},
   "outputs": [],
   "source": [
    "# 2. ver_inventario(): Muestra el inventario de productos con sus detalles.\n",
    "\n",
    "def ver_inventario():\n",
    "    for producto in inventario_frutas:\n",
    "        nombre = producto[\"nombre\"]\n",
    "        precio = producto[\"precio\"]\n",
    "        cantidad = producto[\"cantidad\"]  \n",
    "        print(f\"nombre: {nombre}, precio: {precio}, cantidad: {cantidad}\")\n",
    "\n"
   ]
  },
  {
   "cell_type": "code",
   "execution_count": 9,
   "id": "774d4713",
   "metadata": {},
   "outputs": [
    {
     "name": "stdout",
     "output_type": "stream",
     "text": [
      "nombre: platano, precio: 4, cantidad: 60\n",
      "nombre: manzana, precio: 2, cantidad: 25\n",
      "nombre: naranja, precio: 3, cantidad: 50\n",
      "nombre: fresa, precio: 5, cantidad: 60\n",
      "nombre: mango, precio: 7, cantidad: 15\n",
      "nombre: uva, precio: 6, cantidad: 65\n",
      "nombre: kiwi, precio: 5, cantidad: 20\n",
      "nombre: sandia, precio: 1, cantidad: 6\n",
      "nombre: melon, precio: 2, cantidad: 5\n",
      "nombre: nectarina, precio: 3, cantidad: 35\n",
      "nombre: banana, precio: 3, cantidad: 20\n"
     ]
    }
   ],
   "source": [
    "ver_inventario()"
   ]
  },
  {
   "cell_type": "code",
   "execution_count": 10,
   "id": "972343ae",
   "metadata": {},
   "outputs": [
    {
     "ename": "NameError",
     "evalue": "name 'nombre' is not defined",
     "output_type": "error",
     "traceback": [
      "\u001b[31m---------------------------------------------------------------------------\u001b[39m",
      "\u001b[31mNameError\u001b[39m                                 Traceback (most recent call last)",
      "\u001b[36mCell\u001b[39m\u001b[36m \u001b[39m\u001b[32mIn[10]\u001b[39m\u001b[32m, line 2\u001b[39m\n\u001b[32m      1\u001b[39m \u001b[38;5;28;01mfor\u001b[39;00m producto \u001b[38;5;129;01min\u001b[39;00m inventario_frutas:\n\u001b[32m----> \u001b[39m\u001b[32m2\u001b[39m  \u001b[38;5;28mprint\u001b[39m(\u001b[33mf\u001b[39m\u001b[33m\"\u001b[39m\u001b[33mnombre: \u001b[39m\u001b[38;5;132;01m{\u001b[39;00m\u001b[43mnombre\u001b[49m\u001b[38;5;132;01m}\u001b[39;00m\u001b[33m, precio: \u001b[39m\u001b[38;5;132;01m{\u001b[39;00mprecio\u001b[38;5;132;01m}\u001b[39;00m\u001b[33m, cantidad: \u001b[39m\u001b[38;5;132;01m{\u001b[39;00mcantidad\u001b[38;5;132;01m}\u001b[39;00m\u001b[33m\"\u001b[39m)\n",
      "\u001b[31mNameError\u001b[39m: name 'nombre' is not defined"
     ]
    }
   ],
   "source": [
    "for producto in inventario_frutas:\n",
    " print(f\"nombre: {nombre}, precio: {precio}, cantidad: {cantidad}\")"
   ]
  }
 ],
 "metadata": {
  "kernelspec": {
   "display_name": "base",
   "language": "python",
   "name": "python3"
  },
  "language_info": {
   "codemirror_mode": {
    "name": "ipython",
    "version": 3
   },
   "file_extension": ".py",
   "mimetype": "text/x-python",
   "name": "python",
   "nbconvert_exporter": "python",
   "pygments_lexer": "ipython3",
   "version": "3.13.5"
  }
 },
 "nbformat": 4,
 "nbformat_minor": 5
}
